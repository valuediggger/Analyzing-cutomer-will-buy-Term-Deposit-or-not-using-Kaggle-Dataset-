{
 "cells": [
  {
   "cell_type": "code",
   "execution_count": 1,
   "id": "a1a3d005",
   "metadata": {
    "_cell_guid": "b1076dfc-b9ad-4769-8c92-a6c4dae69d19",
    "_uuid": "8f2839f25d086af736a60e9eeb907d3b93b6e0e5",
    "execution": {
     "iopub.execute_input": "2021-09-26T09:52:01.204911Z",
     "iopub.status.busy": "2021-09-26T09:52:01.203078Z",
     "iopub.status.idle": "2021-09-26T09:52:01.229058Z",
     "shell.execute_reply": "2021-09-26T09:52:01.228402Z",
     "shell.execute_reply.started": "2021-09-26T09:30:15.165650Z"
    },
    "papermill": {
     "duration": 0.059264,
     "end_time": "2021-09-26T09:52:01.229268",
     "exception": false,
     "start_time": "2021-09-26T09:52:01.170004",
     "status": "completed"
    },
    "tags": []
   },
   "outputs": [
    {
     "name": "stdout",
     "output_type": "stream",
     "text": [
      "/kaggle/input/bank-marketing/bank-additional-names.txt\n",
      "/kaggle/input/bank-marketing/bank-additional-full.csv\n"
     ]
    }
   ],
   "source": [
    "# This Python 3 environment comes with many helpful analytics libraries installed\n",
    "# It is defined by the kaggle/python Docker image: https://github.com/kaggle/docker-python\n",
    "# For example, here's several helpful packages to load\n",
    "\n",
    "import numpy as np # linear algebra\n",
    "import pandas as pd # data processing, CSV file I/O (e.g. pd.read_csv)\n",
    "\n",
    "# Input data files are available in the read-only \"../input/\" directory\n",
    "# For example, running this (by clicking run or pressing Shift+Enter) will list all files under the input directory\n",
    "\n",
    "import os\n",
    "for dirname, _, filenames in os.walk('/kaggle/input'):\n",
    "    for filename in filenames:\n",
    "        print(os.path.join(dirname, filename))\n",
    "\n",
    "# You can write up to 20GB to the current directory (/kaggle/working/) that gets preserved as output when you create a version using \"Save & Run All\" \n",
    "# You can also write temporary files to /kaggle/temp/, but they won't be saved outside of the current session"
   ]
  },
  {
   "cell_type": "code",
   "execution_count": 2,
   "id": "3fab5ac3",
   "metadata": {
    "execution": {
     "iopub.execute_input": "2021-09-26T09:52:01.276463Z",
     "iopub.status.busy": "2021-09-26T09:52:01.275737Z",
     "iopub.status.idle": "2021-09-26T09:52:01.506731Z",
     "shell.execute_reply": "2021-09-26T09:52:01.505962Z",
     "shell.execute_reply.started": "2021-09-26T09:30:16.629228Z"
    },
    "papermill": {
     "duration": 0.256038,
     "end_time": "2021-09-26T09:52:01.506881",
     "exception": false,
     "start_time": "2021-09-26T09:52:01.250843",
     "status": "completed"
    },
    "tags": []
   },
   "outputs": [],
   "source": [
    "df = pd.read_csv(r'/kaggle/input/bank-marketing/bank-additional-full.csv',sep=';')"
   ]
  },
  {
   "cell_type": "code",
   "execution_count": 3,
   "id": "a86f97a0",
   "metadata": {
    "execution": {
     "iopub.execute_input": "2021-09-26T09:52:01.571833Z",
     "iopub.status.busy": "2021-09-26T09:52:01.570001Z",
     "iopub.status.idle": "2021-09-26T09:52:01.584178Z",
     "shell.execute_reply": "2021-09-26T09:52:01.583561Z",
     "shell.execute_reply.started": "2021-09-26T09:30:17.157094Z"
    },
    "papermill": {
     "duration": 0.055807,
     "end_time": "2021-09-26T09:52:01.584324",
     "exception": false,
     "start_time": "2021-09-26T09:52:01.528517",
     "status": "completed"
    },
    "tags": []
   },
   "outputs": [],
   "source": [
    "df['y'] = df.y.map(dict(yes=1, no=0))"
   ]
  },
  {
   "cell_type": "code",
   "execution_count": 4,
   "id": "b8000094",
   "metadata": {
    "execution": {
     "iopub.execute_input": "2021-09-26T09:52:01.640913Z",
     "iopub.status.busy": "2021-09-26T09:52:01.633966Z",
     "iopub.status.idle": "2021-09-26T09:52:01.698914Z",
     "shell.execute_reply": "2021-09-26T09:52:01.699436Z",
     "shell.execute_reply.started": "2021-09-26T09:30:17.642046Z"
    },
    "papermill": {
     "duration": 0.094343,
     "end_time": "2021-09-26T09:52:01.699609",
     "exception": false,
     "start_time": "2021-09-26T09:52:01.605266",
     "status": "completed"
    },
    "tags": []
   },
   "outputs": [
    {
     "data": {
      "text/html": [
       "<div>\n",
       "<style scoped>\n",
       "    .dataframe tbody tr th:only-of-type {\n",
       "        vertical-align: middle;\n",
       "    }\n",
       "\n",
       "    .dataframe tbody tr th {\n",
       "        vertical-align: top;\n",
       "    }\n",
       "\n",
       "    .dataframe thead th {\n",
       "        text-align: right;\n",
       "    }\n",
       "</style>\n",
       "<table border=\"1\" class=\"dataframe\">\n",
       "  <thead>\n",
       "    <tr style=\"text-align: right;\">\n",
       "      <th></th>\n",
       "      <th>age</th>\n",
       "      <th>job</th>\n",
       "      <th>marital</th>\n",
       "      <th>education</th>\n",
       "      <th>default</th>\n",
       "      <th>housing</th>\n",
       "      <th>loan</th>\n",
       "      <th>contact</th>\n",
       "      <th>month</th>\n",
       "      <th>day_of_week</th>\n",
       "      <th>...</th>\n",
       "      <th>campaign</th>\n",
       "      <th>pdays</th>\n",
       "      <th>previous</th>\n",
       "      <th>poutcome</th>\n",
       "      <th>emp.var.rate</th>\n",
       "      <th>cons.price.idx</th>\n",
       "      <th>cons.conf.idx</th>\n",
       "      <th>euribor3m</th>\n",
       "      <th>nr.employed</th>\n",
       "      <th>y</th>\n",
       "    </tr>\n",
       "  </thead>\n",
       "  <tbody>\n",
       "    <tr>\n",
       "      <th>0</th>\n",
       "      <td>56</td>\n",
       "      <td>housemaid</td>\n",
       "      <td>married</td>\n",
       "      <td>basic.4y</td>\n",
       "      <td>no</td>\n",
       "      <td>no</td>\n",
       "      <td>no</td>\n",
       "      <td>telephone</td>\n",
       "      <td>may</td>\n",
       "      <td>mon</td>\n",
       "      <td>...</td>\n",
       "      <td>1</td>\n",
       "      <td>999</td>\n",
       "      <td>0</td>\n",
       "      <td>nonexistent</td>\n",
       "      <td>1.1</td>\n",
       "      <td>93.994</td>\n",
       "      <td>-36.4</td>\n",
       "      <td>4.857</td>\n",
       "      <td>5191.0</td>\n",
       "      <td>0</td>\n",
       "    </tr>\n",
       "    <tr>\n",
       "      <th>1</th>\n",
       "      <td>57</td>\n",
       "      <td>services</td>\n",
       "      <td>married</td>\n",
       "      <td>high.school</td>\n",
       "      <td>unknown</td>\n",
       "      <td>no</td>\n",
       "      <td>no</td>\n",
       "      <td>telephone</td>\n",
       "      <td>may</td>\n",
       "      <td>mon</td>\n",
       "      <td>...</td>\n",
       "      <td>1</td>\n",
       "      <td>999</td>\n",
       "      <td>0</td>\n",
       "      <td>nonexistent</td>\n",
       "      <td>1.1</td>\n",
       "      <td>93.994</td>\n",
       "      <td>-36.4</td>\n",
       "      <td>4.857</td>\n",
       "      <td>5191.0</td>\n",
       "      <td>0</td>\n",
       "    </tr>\n",
       "    <tr>\n",
       "      <th>2</th>\n",
       "      <td>37</td>\n",
       "      <td>services</td>\n",
       "      <td>married</td>\n",
       "      <td>high.school</td>\n",
       "      <td>no</td>\n",
       "      <td>yes</td>\n",
       "      <td>no</td>\n",
       "      <td>telephone</td>\n",
       "      <td>may</td>\n",
       "      <td>mon</td>\n",
       "      <td>...</td>\n",
       "      <td>1</td>\n",
       "      <td>999</td>\n",
       "      <td>0</td>\n",
       "      <td>nonexistent</td>\n",
       "      <td>1.1</td>\n",
       "      <td>93.994</td>\n",
       "      <td>-36.4</td>\n",
       "      <td>4.857</td>\n",
       "      <td>5191.0</td>\n",
       "      <td>0</td>\n",
       "    </tr>\n",
       "    <tr>\n",
       "      <th>3</th>\n",
       "      <td>40</td>\n",
       "      <td>admin.</td>\n",
       "      <td>married</td>\n",
       "      <td>basic.6y</td>\n",
       "      <td>no</td>\n",
       "      <td>no</td>\n",
       "      <td>no</td>\n",
       "      <td>telephone</td>\n",
       "      <td>may</td>\n",
       "      <td>mon</td>\n",
       "      <td>...</td>\n",
       "      <td>1</td>\n",
       "      <td>999</td>\n",
       "      <td>0</td>\n",
       "      <td>nonexistent</td>\n",
       "      <td>1.1</td>\n",
       "      <td>93.994</td>\n",
       "      <td>-36.4</td>\n",
       "      <td>4.857</td>\n",
       "      <td>5191.0</td>\n",
       "      <td>0</td>\n",
       "    </tr>\n",
       "    <tr>\n",
       "      <th>4</th>\n",
       "      <td>56</td>\n",
       "      <td>services</td>\n",
       "      <td>married</td>\n",
       "      <td>high.school</td>\n",
       "      <td>no</td>\n",
       "      <td>no</td>\n",
       "      <td>yes</td>\n",
       "      <td>telephone</td>\n",
       "      <td>may</td>\n",
       "      <td>mon</td>\n",
       "      <td>...</td>\n",
       "      <td>1</td>\n",
       "      <td>999</td>\n",
       "      <td>0</td>\n",
       "      <td>nonexistent</td>\n",
       "      <td>1.1</td>\n",
       "      <td>93.994</td>\n",
       "      <td>-36.4</td>\n",
       "      <td>4.857</td>\n",
       "      <td>5191.0</td>\n",
       "      <td>0</td>\n",
       "    </tr>\n",
       "    <tr>\n",
       "      <th>...</th>\n",
       "      <td>...</td>\n",
       "      <td>...</td>\n",
       "      <td>...</td>\n",
       "      <td>...</td>\n",
       "      <td>...</td>\n",
       "      <td>...</td>\n",
       "      <td>...</td>\n",
       "      <td>...</td>\n",
       "      <td>...</td>\n",
       "      <td>...</td>\n",
       "      <td>...</td>\n",
       "      <td>...</td>\n",
       "      <td>...</td>\n",
       "      <td>...</td>\n",
       "      <td>...</td>\n",
       "      <td>...</td>\n",
       "      <td>...</td>\n",
       "      <td>...</td>\n",
       "      <td>...</td>\n",
       "      <td>...</td>\n",
       "      <td>...</td>\n",
       "    </tr>\n",
       "    <tr>\n",
       "      <th>41183</th>\n",
       "      <td>73</td>\n",
       "      <td>retired</td>\n",
       "      <td>married</td>\n",
       "      <td>professional.course</td>\n",
       "      <td>no</td>\n",
       "      <td>yes</td>\n",
       "      <td>no</td>\n",
       "      <td>cellular</td>\n",
       "      <td>nov</td>\n",
       "      <td>fri</td>\n",
       "      <td>...</td>\n",
       "      <td>1</td>\n",
       "      <td>999</td>\n",
       "      <td>0</td>\n",
       "      <td>nonexistent</td>\n",
       "      <td>-1.1</td>\n",
       "      <td>94.767</td>\n",
       "      <td>-50.8</td>\n",
       "      <td>1.028</td>\n",
       "      <td>4963.6</td>\n",
       "      <td>1</td>\n",
       "    </tr>\n",
       "    <tr>\n",
       "      <th>41184</th>\n",
       "      <td>46</td>\n",
       "      <td>blue-collar</td>\n",
       "      <td>married</td>\n",
       "      <td>professional.course</td>\n",
       "      <td>no</td>\n",
       "      <td>no</td>\n",
       "      <td>no</td>\n",
       "      <td>cellular</td>\n",
       "      <td>nov</td>\n",
       "      <td>fri</td>\n",
       "      <td>...</td>\n",
       "      <td>1</td>\n",
       "      <td>999</td>\n",
       "      <td>0</td>\n",
       "      <td>nonexistent</td>\n",
       "      <td>-1.1</td>\n",
       "      <td>94.767</td>\n",
       "      <td>-50.8</td>\n",
       "      <td>1.028</td>\n",
       "      <td>4963.6</td>\n",
       "      <td>0</td>\n",
       "    </tr>\n",
       "    <tr>\n",
       "      <th>41185</th>\n",
       "      <td>56</td>\n",
       "      <td>retired</td>\n",
       "      <td>married</td>\n",
       "      <td>university.degree</td>\n",
       "      <td>no</td>\n",
       "      <td>yes</td>\n",
       "      <td>no</td>\n",
       "      <td>cellular</td>\n",
       "      <td>nov</td>\n",
       "      <td>fri</td>\n",
       "      <td>...</td>\n",
       "      <td>2</td>\n",
       "      <td>999</td>\n",
       "      <td>0</td>\n",
       "      <td>nonexistent</td>\n",
       "      <td>-1.1</td>\n",
       "      <td>94.767</td>\n",
       "      <td>-50.8</td>\n",
       "      <td>1.028</td>\n",
       "      <td>4963.6</td>\n",
       "      <td>0</td>\n",
       "    </tr>\n",
       "    <tr>\n",
       "      <th>41186</th>\n",
       "      <td>44</td>\n",
       "      <td>technician</td>\n",
       "      <td>married</td>\n",
       "      <td>professional.course</td>\n",
       "      <td>no</td>\n",
       "      <td>no</td>\n",
       "      <td>no</td>\n",
       "      <td>cellular</td>\n",
       "      <td>nov</td>\n",
       "      <td>fri</td>\n",
       "      <td>...</td>\n",
       "      <td>1</td>\n",
       "      <td>999</td>\n",
       "      <td>0</td>\n",
       "      <td>nonexistent</td>\n",
       "      <td>-1.1</td>\n",
       "      <td>94.767</td>\n",
       "      <td>-50.8</td>\n",
       "      <td>1.028</td>\n",
       "      <td>4963.6</td>\n",
       "      <td>1</td>\n",
       "    </tr>\n",
       "    <tr>\n",
       "      <th>41187</th>\n",
       "      <td>74</td>\n",
       "      <td>retired</td>\n",
       "      <td>married</td>\n",
       "      <td>professional.course</td>\n",
       "      <td>no</td>\n",
       "      <td>yes</td>\n",
       "      <td>no</td>\n",
       "      <td>cellular</td>\n",
       "      <td>nov</td>\n",
       "      <td>fri</td>\n",
       "      <td>...</td>\n",
       "      <td>3</td>\n",
       "      <td>999</td>\n",
       "      <td>1</td>\n",
       "      <td>failure</td>\n",
       "      <td>-1.1</td>\n",
       "      <td>94.767</td>\n",
       "      <td>-50.8</td>\n",
       "      <td>1.028</td>\n",
       "      <td>4963.6</td>\n",
       "      <td>0</td>\n",
       "    </tr>\n",
       "  </tbody>\n",
       "</table>\n",
       "<p>41188 rows × 21 columns</p>\n",
       "</div>"
      ],
      "text/plain": [
       "       age          job  marital            education  default housing loan  \\\n",
       "0       56    housemaid  married             basic.4y       no      no   no   \n",
       "1       57     services  married          high.school  unknown      no   no   \n",
       "2       37     services  married          high.school       no     yes   no   \n",
       "3       40       admin.  married             basic.6y       no      no   no   \n",
       "4       56     services  married          high.school       no      no  yes   \n",
       "...    ...          ...      ...                  ...      ...     ...  ...   \n",
       "41183   73      retired  married  professional.course       no     yes   no   \n",
       "41184   46  blue-collar  married  professional.course       no      no   no   \n",
       "41185   56      retired  married    university.degree       no     yes   no   \n",
       "41186   44   technician  married  professional.course       no      no   no   \n",
       "41187   74      retired  married  professional.course       no     yes   no   \n",
       "\n",
       "         contact month day_of_week  ...  campaign  pdays  previous  \\\n",
       "0      telephone   may         mon  ...         1    999         0   \n",
       "1      telephone   may         mon  ...         1    999         0   \n",
       "2      telephone   may         mon  ...         1    999         0   \n",
       "3      telephone   may         mon  ...         1    999         0   \n",
       "4      telephone   may         mon  ...         1    999         0   \n",
       "...          ...   ...         ...  ...       ...    ...       ...   \n",
       "41183   cellular   nov         fri  ...         1    999         0   \n",
       "41184   cellular   nov         fri  ...         1    999         0   \n",
       "41185   cellular   nov         fri  ...         2    999         0   \n",
       "41186   cellular   nov         fri  ...         1    999         0   \n",
       "41187   cellular   nov         fri  ...         3    999         1   \n",
       "\n",
       "          poutcome emp.var.rate  cons.price.idx  cons.conf.idx  euribor3m  \\\n",
       "0      nonexistent          1.1          93.994          -36.4      4.857   \n",
       "1      nonexistent          1.1          93.994          -36.4      4.857   \n",
       "2      nonexistent          1.1          93.994          -36.4      4.857   \n",
       "3      nonexistent          1.1          93.994          -36.4      4.857   \n",
       "4      nonexistent          1.1          93.994          -36.4      4.857   \n",
       "...            ...          ...             ...            ...        ...   \n",
       "41183  nonexistent         -1.1          94.767          -50.8      1.028   \n",
       "41184  nonexistent         -1.1          94.767          -50.8      1.028   \n",
       "41185  nonexistent         -1.1          94.767          -50.8      1.028   \n",
       "41186  nonexistent         -1.1          94.767          -50.8      1.028   \n",
       "41187      failure         -1.1          94.767          -50.8      1.028   \n",
       "\n",
       "       nr.employed  y  \n",
       "0           5191.0  0  \n",
       "1           5191.0  0  \n",
       "2           5191.0  0  \n",
       "3           5191.0  0  \n",
       "4           5191.0  0  \n",
       "...            ... ..  \n",
       "41183       4963.6  1  \n",
       "41184       4963.6  0  \n",
       "41185       4963.6  0  \n",
       "41186       4963.6  1  \n",
       "41187       4963.6  0  \n",
       "\n",
       "[41188 rows x 21 columns]"
      ]
     },
     "execution_count": 4,
     "metadata": {},
     "output_type": "execute_result"
    }
   ],
   "source": [
    "df"
   ]
  },
  {
   "cell_type": "code",
   "execution_count": 5,
   "id": "3c0baf08",
   "metadata": {
    "execution": {
     "iopub.execute_input": "2021-09-26T09:52:01.756267Z",
     "iopub.status.busy": "2021-09-26T09:52:01.746194Z",
     "iopub.status.idle": "2021-09-26T09:52:12.980686Z",
     "shell.execute_reply": "2021-09-26T09:52:12.981279Z",
     "shell.execute_reply.started": "2021-09-26T09:30:17.998090Z"
    },
    "papermill": {
     "duration": 11.26083,
     "end_time": "2021-09-26T09:52:12.981458",
     "exception": false,
     "start_time": "2021-09-26T09:52:01.720628",
     "status": "completed"
    },
    "tags": []
   },
   "outputs": [
    {
     "name": "stdout",
     "output_type": "stream",
     "text": [
      "Collecting gamma-facet\r\n",
      "  Downloading gamma_facet-1.2.1-py3-none-any.whl (68 kB)\r\n",
      "\u001b[K     |████████████████████████████████| 68 kB 615 kB/s \r\n",
      "\u001b[?25hRequirement already satisfied: scipy~=1.2 in /opt/conda/lib/python3.7/site-packages (from gamma-facet) (1.7.1)\r\n",
      "Requirement already satisfied: numpy<2a,>=1.17 in /opt/conda/lib/python3.7/site-packages (from gamma-facet) (1.19.5)\r\n",
      "Collecting sklearndf~=1.2\r\n",
      "  Downloading sklearndf-1.2.2-py3-none-any.whl (53 kB)\r\n",
      "\u001b[K     |████████████████████████████████| 53 kB 1.2 MB/s \r\n",
      "\u001b[?25hRequirement already satisfied: packaging>=20 in /opt/conda/lib/python3.7/site-packages (from gamma-facet) (21.0)\r\n",
      "Requirement already satisfied: shap<0.40a,>=0.34 in /opt/conda/lib/python3.7/site-packages (from gamma-facet) (0.39.0)\r\n",
      "Requirement already satisfied: matplotlib~=3.0 in /opt/conda/lib/python3.7/site-packages (from gamma-facet) (3.4.3)\r\n",
      "Collecting gamma-pytools>=1.2.1,~=1.2\r\n",
      "  Downloading gamma_pytools-1.2.2-py3-none-any.whl (89 kB)\r\n",
      "\u001b[K     |████████████████████████████████| 89 kB 2.0 MB/s \r\n",
      "\u001b[?25hRequirement already satisfied: ipython>=7 in /opt/conda/lib/python3.7/site-packages (from gamma-facet) (7.26.0)\r\n",
      "Requirement already satisfied: pandas<2a,>=0.24 in /opt/conda/lib/python3.7/site-packages (from gamma-facet) (1.3.2)\r\n",
      "Requirement already satisfied: joblib<2a,>=0.14 in /opt/conda/lib/python3.7/site-packages (from gamma-pytools>=1.2.1,~=1.2->gamma-facet) (1.0.1)\r\n",
      "Requirement already satisfied: typing_inspect~=0.4 in /opt/conda/lib/python3.7/site-packages (from gamma-pytools>=1.2.1,~=1.2->gamma-facet) (0.7.1)\r\n",
      "Requirement already satisfied: pickleshare in /opt/conda/lib/python3.7/site-packages (from ipython>=7->gamma-facet) (0.7.5)\r\n",
      "Requirement already satisfied: pygments in /opt/conda/lib/python3.7/site-packages (from ipython>=7->gamma-facet) (2.10.0)\r\n",
      "Requirement already satisfied: backcall in /opt/conda/lib/python3.7/site-packages (from ipython>=7->gamma-facet) (0.2.0)\r\n",
      "Requirement already satisfied: setuptools>=18.5 in /opt/conda/lib/python3.7/site-packages (from ipython>=7->gamma-facet) (57.4.0)\r\n",
      "Requirement already satisfied: prompt-toolkit!=3.0.0,!=3.0.1,<3.1.0,>=2.0.0 in /opt/conda/lib/python3.7/site-packages (from ipython>=7->gamma-facet) (3.0.19)\r\n",
      "Requirement already satisfied: traitlets>=4.2 in /opt/conda/lib/python3.7/site-packages (from ipython>=7->gamma-facet) (5.0.5)\r\n",
      "Requirement already satisfied: jedi>=0.16 in /opt/conda/lib/python3.7/site-packages (from ipython>=7->gamma-facet) (0.18.0)\r\n",
      "Requirement already satisfied: pexpect>4.3 in /opt/conda/lib/python3.7/site-packages (from ipython>=7->gamma-facet) (4.8.0)\r\n",
      "Requirement already satisfied: matplotlib-inline in /opt/conda/lib/python3.7/site-packages (from ipython>=7->gamma-facet) (0.1.2)\r\n",
      "Requirement already satisfied: decorator in /opt/conda/lib/python3.7/site-packages (from ipython>=7->gamma-facet) (5.0.9)\r\n",
      "Requirement already satisfied: parso<0.9.0,>=0.8.0 in /opt/conda/lib/python3.7/site-packages (from jedi>=0.16->ipython>=7->gamma-facet) (0.8.2)\r\n",
      "Requirement already satisfied: kiwisolver>=1.0.1 in /opt/conda/lib/python3.7/site-packages (from matplotlib~=3.0->gamma-facet) (1.3.1)\r\n",
      "Requirement already satisfied: python-dateutil>=2.7 in /opt/conda/lib/python3.7/site-packages (from matplotlib~=3.0->gamma-facet) (2.8.0)\r\n",
      "Requirement already satisfied: pyparsing>=2.2.1 in /opt/conda/lib/python3.7/site-packages (from matplotlib~=3.0->gamma-facet) (2.4.7)\r\n",
      "Requirement already satisfied: pillow>=6.2.0 in /opt/conda/lib/python3.7/site-packages (from matplotlib~=3.0->gamma-facet) (8.2.0)\r\n",
      "Requirement already satisfied: cycler>=0.10 in /opt/conda/lib/python3.7/site-packages (from matplotlib~=3.0->gamma-facet) (0.10.0)\r\n",
      "Requirement already satisfied: six in /opt/conda/lib/python3.7/site-packages (from cycler>=0.10->matplotlib~=3.0->gamma-facet) (1.15.0)\r\n",
      "Requirement already satisfied: pytz>=2017.3 in /opt/conda/lib/python3.7/site-packages (from pandas<2a,>=0.24->gamma-facet) (2021.1)\r\n",
      "Requirement already satisfied: ptyprocess>=0.5 in /opt/conda/lib/python3.7/site-packages (from pexpect>4.3->ipython>=7->gamma-facet) (0.7.0)\r\n",
      "Requirement already satisfied: wcwidth in /opt/conda/lib/python3.7/site-packages (from prompt-toolkit!=3.0.0,!=3.0.1,<3.1.0,>=2.0.0->ipython>=7->gamma-facet) (0.2.5)\r\n",
      "Requirement already satisfied: tqdm>4.25.0 in /opt/conda/lib/python3.7/site-packages (from shap<0.40a,>=0.34->gamma-facet) (4.62.1)\r\n",
      "Requirement already satisfied: cloudpickle in /opt/conda/lib/python3.7/site-packages (from shap<0.40a,>=0.34->gamma-facet) (1.6.0)\r\n",
      "Requirement already satisfied: slicer==0.0.7 in /opt/conda/lib/python3.7/site-packages (from shap<0.40a,>=0.34->gamma-facet) (0.0.7)\r\n",
      "Requirement already satisfied: scikit-learn in /opt/conda/lib/python3.7/site-packages (from shap<0.40a,>=0.34->gamma-facet) (0.23.2)\r\n",
      "Requirement already satisfied: numba in /opt/conda/lib/python3.7/site-packages (from shap<0.40a,>=0.34->gamma-facet) (0.53.1)\r\n",
      "Requirement already satisfied: boruta~=0.3 in /opt/conda/lib/python3.7/site-packages (from sklearndf~=1.2->gamma-facet) (0.3)\r\n",
      "Requirement already satisfied: lightgbm~=3.0 in /opt/conda/lib/python3.7/site-packages (from sklearndf~=1.2->gamma-facet) (3.2.1)\r\n",
      "Requirement already satisfied: wheel in /opt/conda/lib/python3.7/site-packages (from lightgbm~=3.0->sklearndf~=1.2->gamma-facet) (0.37.0)\r\n",
      "Requirement already satisfied: threadpoolctl>=2.0.0 in /opt/conda/lib/python3.7/site-packages (from scikit-learn->shap<0.40a,>=0.34->gamma-facet) (2.2.0)\r\n",
      "Requirement already satisfied: ipython-genutils in /opt/conda/lib/python3.7/site-packages (from traitlets>=4.2->ipython>=7->gamma-facet) (0.2.0)\r\n",
      "Requirement already satisfied: mypy-extensions>=0.3.0 in /opt/conda/lib/python3.7/site-packages (from typing_inspect~=0.4->gamma-pytools>=1.2.1,~=1.2->gamma-facet) (0.4.3)\r\n",
      "Requirement already satisfied: typing-extensions>=3.7.4 in /opt/conda/lib/python3.7/site-packages (from typing_inspect~=0.4->gamma-pytools>=1.2.1,~=1.2->gamma-facet) (3.7.4.3)\r\n",
      "Requirement already satisfied: llvmlite<0.37,>=0.36.0rc1 in /opt/conda/lib/python3.7/site-packages (from numba->shap<0.40a,>=0.34->gamma-facet) (0.36.0)\r\n",
      "Installing collected packages: gamma-pytools, sklearndf, gamma-facet\r\n",
      "Successfully installed gamma-facet-1.2.1 gamma-pytools-1.2.2 sklearndf-1.2.2\r\n",
      "\u001b[33mWARNING: Running pip as the 'root' user can result in broken permissions and conflicting behaviour with the system package manager. It is recommended to use a virtual environment instead: https://pip.pypa.io/warnings/venv\u001b[0m\r\n",
      "Note: you may need to restart the kernel to use updated packages.\n"
     ]
    }
   ],
   "source": [
    "pip install gamma-facet"
   ]
  },
  {
   "cell_type": "code",
   "execution_count": 6,
   "id": "da59394c",
   "metadata": {
    "execution": {
     "iopub.execute_input": "2021-09-26T09:52:13.045733Z",
     "iopub.status.busy": "2021-09-26T09:52:13.044688Z",
     "iopub.status.idle": "2021-09-26T09:52:14.025821Z",
     "shell.execute_reply": "2021-09-26T09:52:14.025227Z",
     "shell.execute_reply.started": "2021-09-26T09:30:26.297258Z"
    },
    "papermill": {
     "duration": 1.016111,
     "end_time": "2021-09-26T09:52:14.025964",
     "exception": false,
     "start_time": "2021-09-26T09:52:13.009853",
     "status": "completed"
    },
    "tags": []
   },
   "outputs": [],
   "source": [
    "import numpy as np\n",
    "import pandas as pd\n",
    "from numpy import interp\n",
    "import matplotlib.pylab as plt\n",
    "\n",
    "from sklearn.metrics import (\n",
    "    classification_report,\n",
    "    confusion_matrix,\n",
    "    roc_curve,\n",
    "    roc_auc_score,\n",
    "    auc,\n",
    "    accuracy_score,\n",
    "    f1_score,\n",
    "    precision_score,\n",
    "    recall_score,\n",
    "    precision_recall_curve,\n",
    "    ConfusionMatrixDisplay,\n",
    "    PrecisionRecallDisplay,\n",
    ")\n",
    "from sklearn.compose import make_column_selector\n",
    "from sklearn.model_selection import RepeatedKFold"
   ]
  },
  {
   "cell_type": "code",
   "execution_count": 7,
   "id": "dac46889",
   "metadata": {
    "execution": {
     "iopub.execute_input": "2021-09-26T09:52:14.089710Z",
     "iopub.status.busy": "2021-09-26T09:52:14.088661Z",
     "iopub.status.idle": "2021-09-26T09:52:14.124748Z",
     "shell.execute_reply": "2021-09-26T09:52:14.124158Z",
     "shell.execute_reply.started": "2021-09-26T09:30:26.305748Z"
    },
    "papermill": {
     "duration": 0.070533,
     "end_time": "2021-09-26T09:52:14.124901",
     "exception": false,
     "start_time": "2021-09-26T09:52:14.054368",
     "status": "completed"
    },
    "tags": []
   },
   "outputs": [],
   "source": [
    "from facet.data import Sample\n",
    "from facet.selection import LearnerRanker, LearnerGrid\n",
    "from facet.crossfit import LearnerCrossfit"
   ]
  },
  {
   "cell_type": "code",
   "execution_count": 8,
   "id": "6918a71e",
   "metadata": {
    "execution": {
     "iopub.execute_input": "2021-09-26T09:52:14.201561Z",
     "iopub.status.busy": "2021-09-26T09:52:14.200541Z",
     "iopub.status.idle": "2021-09-26T09:52:14.275700Z",
     "shell.execute_reply": "2021-09-26T09:52:14.275144Z",
     "shell.execute_reply.started": "2021-09-26T09:30:26.323561Z"
    },
    "papermill": {
     "duration": 0.119044,
     "end_time": "2021-09-26T09:52:14.275864",
     "exception": false,
     "start_time": "2021-09-26T09:52:14.156820",
     "status": "completed"
    },
    "tags": []
   },
   "outputs": [
    {
     "name": "stdout",
     "output_type": "stream",
     "text": [
      "<class 'pandas.core.frame.DataFrame'>\n",
      "RangeIndex: 41188 entries, 0 to 41187\n",
      "Data columns (total 21 columns):\n",
      " #   Column          Non-Null Count  Dtype  \n",
      "---  ------          --------------  -----  \n",
      " 0   age             41188 non-null  int64  \n",
      " 1   job             41188 non-null  object \n",
      " 2   marital         41188 non-null  object \n",
      " 3   education       41188 non-null  object \n",
      " 4   default         41188 non-null  object \n",
      " 5   housing         41188 non-null  object \n",
      " 6   loan            41188 non-null  object \n",
      " 7   contact         41188 non-null  object \n",
      " 8   month           41188 non-null  object \n",
      " 9   day_of_week     41188 non-null  object \n",
      " 10  duration        41188 non-null  int64  \n",
      " 11  campaign        41188 non-null  int64  \n",
      " 12  pdays           41188 non-null  int64  \n",
      " 13  previous        41188 non-null  int64  \n",
      " 14  poutcome        41188 non-null  object \n",
      " 15  emp.var.rate    41188 non-null  float64\n",
      " 16  cons.price.idx  41188 non-null  float64\n",
      " 17  cons.conf.idx   41188 non-null  float64\n",
      " 18  euribor3m       41188 non-null  float64\n",
      " 19  nr.employed     41188 non-null  float64\n",
      " 20  y               41188 non-null  int64  \n",
      "dtypes: float64(5), int64(6), object(10)\n",
      "memory usage: 6.6+ MB\n"
     ]
    }
   ],
   "source": [
    "df.info()"
   ]
  },
  {
   "cell_type": "code",
   "execution_count": 9,
   "id": "7d988afa",
   "metadata": {
    "execution": {
     "iopub.execute_input": "2021-09-26T09:52:14.341098Z",
     "iopub.status.busy": "2021-09-26T09:52:14.339926Z",
     "iopub.status.idle": "2021-09-26T09:52:14.365364Z",
     "shell.execute_reply": "2021-09-26T09:52:14.364690Z",
     "shell.execute_reply.started": "2021-09-26T09:30:26.397845Z"
    },
    "papermill": {
     "duration": 0.060921,
     "end_time": "2021-09-26T09:52:14.365510",
     "exception": false,
     "start_time": "2021-09-26T09:52:14.304589",
     "status": "completed"
    },
    "tags": []
   },
   "outputs": [
    {
     "data": {
      "text/plain": [
       "'y'"
      ]
     },
     "execution_count": 9,
     "metadata": {},
     "output_type": "execute_result"
    }
   ],
   "source": [
    "churn_df = df\n",
    "\n",
    "\n",
    "# create sample object\n",
    "churn_sample = Sample(\n",
    "    observations=churn_df,\n",
    "    feature_names=churn_df.drop(columns=[\"y\"]).columns,\n",
    "    target_name=\"y\",\n",
    ")\n",
    "\n",
    "# check target name\n",
    "churn_sample.target_name"
   ]
  },
  {
   "cell_type": "code",
   "execution_count": 10,
   "id": "4987f71c",
   "metadata": {
    "execution": {
     "iopub.execute_input": "2021-09-26T09:52:14.433487Z",
     "iopub.status.busy": "2021-09-26T09:52:14.428412Z",
     "iopub.status.idle": "2021-09-26T09:52:22.398033Z",
     "shell.execute_reply": "2021-09-26T09:52:22.397149Z",
     "shell.execute_reply.started": "2021-09-26T09:30:26.427223Z"
    },
    "papermill": {
     "duration": 8.00374,
     "end_time": "2021-09-26T09:52:22.398198",
     "exception": false,
     "start_time": "2021-09-26T09:52:14.394458",
     "status": "completed"
    },
    "tags": []
   },
   "outputs": [
    {
     "name": "stdout",
     "output_type": "stream",
     "text": [
      "Requirement already satisfied: sklearndf in /opt/conda/lib/python3.7/site-packages (1.2.2)\r\n",
      "Requirement already satisfied: scipy~=1.2 in /opt/conda/lib/python3.7/site-packages (from sklearndf) (1.7.1)\r\n",
      "Requirement already satisfied: scikit-learn<0.25a,>=0.21 in /opt/conda/lib/python3.7/site-packages (from sklearndf) (0.23.2)\r\n",
      "Requirement already satisfied: packaging>=20 in /opt/conda/lib/python3.7/site-packages (from sklearndf) (21.0)\r\n",
      "Requirement already satisfied: numpy<2a,>=1.16 in /opt/conda/lib/python3.7/site-packages (from sklearndf) (1.19.5)\r\n",
      "Requirement already satisfied: lightgbm~=3.0 in /opt/conda/lib/python3.7/site-packages (from sklearndf) (3.2.1)\r\n",
      "Requirement already satisfied: boruta~=0.3 in /opt/conda/lib/python3.7/site-packages (from sklearndf) (0.3)\r\n",
      "Requirement already satisfied: gamma-pytools~=1.2 in /opt/conda/lib/python3.7/site-packages (from sklearndf) (1.2.2)\r\n",
      "Requirement already satisfied: pandas<2a,>=0.24 in /opt/conda/lib/python3.7/site-packages (from sklearndf) (1.3.2)\r\n",
      "Requirement already satisfied: typing_inspect~=0.4 in /opt/conda/lib/python3.7/site-packages (from gamma-pytools~=1.2->sklearndf) (0.7.1)\r\n",
      "Requirement already satisfied: matplotlib~=3.0 in /opt/conda/lib/python3.7/site-packages (from gamma-pytools~=1.2->sklearndf) (3.4.3)\r\n",
      "Requirement already satisfied: joblib<2a,>=0.14 in /opt/conda/lib/python3.7/site-packages (from gamma-pytools~=1.2->sklearndf) (1.0.1)\r\n",
      "Requirement already satisfied: wheel in /opt/conda/lib/python3.7/site-packages (from lightgbm~=3.0->sklearndf) (0.37.0)\r\n",
      "Requirement already satisfied: pyparsing>=2.2.1 in /opt/conda/lib/python3.7/site-packages (from matplotlib~=3.0->gamma-pytools~=1.2->sklearndf) (2.4.7)\r\n",
      "Requirement already satisfied: cycler>=0.10 in /opt/conda/lib/python3.7/site-packages (from matplotlib~=3.0->gamma-pytools~=1.2->sklearndf) (0.10.0)\r\n",
      "Requirement already satisfied: python-dateutil>=2.7 in /opt/conda/lib/python3.7/site-packages (from matplotlib~=3.0->gamma-pytools~=1.2->sklearndf) (2.8.0)\r\n",
      "Requirement already satisfied: pillow>=6.2.0 in /opt/conda/lib/python3.7/site-packages (from matplotlib~=3.0->gamma-pytools~=1.2->sklearndf) (8.2.0)\r\n",
      "Requirement already satisfied: kiwisolver>=1.0.1 in /opt/conda/lib/python3.7/site-packages (from matplotlib~=3.0->gamma-pytools~=1.2->sklearndf) (1.3.1)\r\n",
      "Requirement already satisfied: six in /opt/conda/lib/python3.7/site-packages (from cycler>=0.10->matplotlib~=3.0->gamma-pytools~=1.2->sklearndf) (1.15.0)\r\n",
      "Requirement already satisfied: pytz>=2017.3 in /opt/conda/lib/python3.7/site-packages (from pandas<2a,>=0.24->sklearndf) (2021.1)\r\n",
      "Requirement already satisfied: threadpoolctl>=2.0.0 in /opt/conda/lib/python3.7/site-packages (from scikit-learn<0.25a,>=0.21->sklearndf) (2.2.0)\r\n",
      "Requirement already satisfied: typing-extensions>=3.7.4 in /opt/conda/lib/python3.7/site-packages (from typing_inspect~=0.4->gamma-pytools~=1.2->sklearndf) (3.7.4.3)\r\n",
      "Requirement already satisfied: mypy-extensions>=0.3.0 in /opt/conda/lib/python3.7/site-packages (from typing_inspect~=0.4->gamma-pytools~=1.2->sklearndf) (0.4.3)\r\n",
      "\u001b[33mWARNING: Running pip as the 'root' user can result in broken permissions and conflicting behaviour with the system package manager. It is recommended to use a virtual environment instead: https://pip.pypa.io/warnings/venv\u001b[0m\r\n",
      "Note: you may need to restart the kernel to use updated packages.\n"
     ]
    }
   ],
   "source": [
    "pip install sklearndf"
   ]
  },
  {
   "cell_type": "code",
   "execution_count": 11,
   "id": "8bbd2174",
   "metadata": {
    "execution": {
     "iopub.execute_input": "2021-09-26T09:52:22.468609Z",
     "iopub.status.busy": "2021-09-26T09:52:22.467867Z",
     "iopub.status.idle": "2021-09-26T09:52:22.849340Z",
     "shell.execute_reply": "2021-09-26T09:52:22.848683Z",
     "shell.execute_reply.started": "2021-09-26T09:30:34.736554Z"
    },
    "papermill": {
     "duration": 0.420548,
     "end_time": "2021-09-26T09:52:22.849500",
     "exception": false,
     "start_time": "2021-09-26T09:52:22.428952",
     "status": "completed"
    },
    "tags": []
   },
   "outputs": [],
   "source": [
    "from sklearn.compose import make_column_selector\n",
    "from sklearndf.transformation import ColumnTransformerDF\n",
    "from sklearndf.transformation import SimpleImputerDF\n",
    "from sklearndf.transformation import OneHotEncoderDF\n",
    "from sklearndf.pipeline import PipelineDF\n",
    "\n",
    "\n",
    "from sklearndf.pipeline import PipelineDF, ClassifierPipelineDF\n",
    "from sklearndf.classification import RandomForestClassifierDF\n",
    "from sklearndf.transformation import (\n",
    "    ColumnTransformerDF,\n",
    "    OneHotEncoderDF,\n",
    "    SimpleImputerDF,\n",
    ")\n",
    "from sklearndf.transformation.extra import BorutaDF"
   ]
  },
  {
   "cell_type": "code",
   "execution_count": 12,
   "id": "9d889ec7",
   "metadata": {
    "execution": {
     "iopub.execute_input": "2021-09-26T09:52:22.917636Z",
     "iopub.status.busy": "2021-09-26T09:52:22.914230Z",
     "iopub.status.idle": "2021-09-26T09:52:22.920760Z",
     "shell.execute_reply": "2021-09-26T09:52:22.920202Z",
     "shell.execute_reply.started": "2021-09-26T09:30:34.745913Z"
    },
    "papermill": {
     "duration": 0.040627,
     "end_time": "2021-09-26T09:52:22.920918",
     "exception": false,
     "start_time": "2021-09-26T09:52:22.880291",
     "status": "completed"
    },
    "tags": []
   },
   "outputs": [],
   "source": [
    "preprocessing_categorical = PipelineDF(\n",
    "    steps = [\n",
    "            (\"imputer\", SimpleImputerDF(strategy=\"most_frequent\",fill_value=\"<na>\")),\n",
    "            (\"one-hot\",OneHotEncoderDF(sparse=False, handle_unknown=\"ignore\")),\n",
    "    ]\n",
    ")\n",
    "\n",
    "preprocessing_numerical = SimpleImputerDF(strategy=\"median\")"
   ]
  },
  {
   "cell_type": "code",
   "execution_count": 13,
   "id": "73971ed5",
   "metadata": {
    "execution": {
     "iopub.execute_input": "2021-09-26T09:52:22.989940Z",
     "iopub.status.busy": "2021-09-26T09:52:22.989205Z",
     "iopub.status.idle": "2021-09-26T09:52:22.991392Z",
     "shell.execute_reply": "2021-09-26T09:52:22.990715Z",
     "shell.execute_reply.started": "2021-09-26T09:30:34.758524Z"
    },
    "papermill": {
     "duration": 0.039519,
     "end_time": "2021-09-26T09:52:22.991538",
     "exception": false,
     "start_time": "2021-09-26T09:52:22.952019",
     "status": "completed"
    },
    "tags": []
   },
   "outputs": [],
   "source": [
    "preprocessing_features = ColumnTransformerDF(\n",
    "    transformers = [\n",
    "                    (\n",
    "                        \"categorcial\",\n",
    "                     preprocessing_categorical,\n",
    "                     make_column_selector(dtype_include=\"object\")\n",
    "                    ),\n",
    "                    (\n",
    "                        \"numerical\",\n",
    "                     preprocessing_numerical,\n",
    "                     make_column_selector(dtype_include=np.number),\n",
    "                    ),\n",
    "    ]\n",
    ")"
   ]
  },
  {
   "cell_type": "code",
   "execution_count": 14,
   "id": "d9096bc5",
   "metadata": {
    "execution": {
     "iopub.execute_input": "2021-09-26T09:52:23.070767Z",
     "iopub.status.busy": "2021-09-26T09:52:23.069995Z",
     "iopub.status.idle": "2021-09-26T09:55:30.000560Z",
     "shell.execute_reply": "2021-09-26T09:55:30.001090Z",
     "shell.execute_reply.started": "2021-09-26T09:30:34.771278Z"
    },
    "papermill": {
     "duration": 186.978259,
     "end_time": "2021-09-26T09:55:30.001291",
     "exception": false,
     "start_time": "2021-09-26T09:52:23.023032",
     "status": "completed"
    },
    "tags": []
   },
   "outputs": [
    {
     "data": {
      "text/plain": [
       "array(['job', 'default', 'contact', 'month', 'poutcome', 'age',\n",
       "       'duration', 'pdays', 'previous', 'emp.var.rate', 'cons.price.idx',\n",
       "       'cons.conf.idx', 'euribor3m', 'nr.employed'], dtype=object)"
      ]
     },
     "execution_count": 14,
     "metadata": {},
     "output_type": "execute_result"
    }
   ],
   "source": [
    "boruta_feature_selection = PipelineDF(\n",
    "    steps=[\n",
    "        (\"preprocessing\", preprocessing_features),\n",
    "        (\n",
    "            \"boruta\",\n",
    "            BorutaDF(\n",
    "                estimator=RandomForestClassifierDF(\n",
    "                    max_depth=5, n_jobs=-3, random_state=42\n",
    "                ),\n",
    "                n_estimators=\"auto\",\n",
    "                random_state=42,\n",
    "                verbose=False,\n",
    "            ),\n",
    "        ),\n",
    "    ]\n",
    ")\n",
    "\n",
    "# run feature selection using Boruta and report those selected\n",
    "boruta_feature_selection.fit(X=churn_sample.features, y=churn_sample.target)\n",
    "selected = boruta_feature_selection.feature_names_original_.unique()\n",
    "selected"
   ]
  },
  {
   "cell_type": "code",
   "execution_count": 15,
   "id": "2b2026b3",
   "metadata": {
    "execution": {
     "iopub.execute_input": "2021-09-26T09:55:30.066560Z",
     "iopub.status.busy": "2021-09-26T09:55:30.065800Z",
     "iopub.status.idle": "2021-09-26T09:55:30.073043Z",
     "shell.execute_reply": "2021-09-26T09:55:30.073812Z",
     "shell.execute_reply.started": "2021-09-26T09:33:39.954689Z"
    },
    "papermill": {
     "duration": 0.041522,
     "end_time": "2021-09-26T09:55:30.074012",
     "exception": false,
     "start_time": "2021-09-26T09:55:30.032490",
     "status": "completed"
    },
    "tags": []
   },
   "outputs": [],
   "source": [
    "churn_sample_kept_features = churn_sample.keep(feature_names=selected)"
   ]
  },
  {
   "cell_type": "code",
   "execution_count": 16,
   "id": "bbcb79ad",
   "metadata": {
    "execution": {
     "iopub.execute_input": "2021-09-26T09:55:30.139342Z",
     "iopub.status.busy": "2021-09-26T09:55:30.138408Z",
     "iopub.status.idle": "2021-09-26T09:55:30.142772Z",
     "shell.execute_reply": "2021-09-26T09:55:30.143340Z",
     "shell.execute_reply.started": "2021-09-26T09:33:39.964589Z"
    },
    "papermill": {
     "duration": 0.038418,
     "end_time": "2021-09-26T09:55:30.143521",
     "exception": false,
     "start_time": "2021-09-26T09:55:30.105103",
     "status": "completed"
    },
    "tags": []
   },
   "outputs": [],
   "source": [
    "rforest_clf = ClassifierPipelineDF(\n",
    "    preprocessing=preprocessing_features,\n",
    "    classifier = RandomForestClassifierDF(random_state=42)\n",
    ")"
   ]
  },
  {
   "cell_type": "code",
   "execution_count": 17,
   "id": "0340f0e1",
   "metadata": {
    "execution": {
     "iopub.execute_input": "2021-09-26T09:55:30.212094Z",
     "iopub.status.busy": "2021-09-26T09:55:30.210605Z",
     "iopub.status.idle": "2021-09-26T09:55:30.212779Z",
     "shell.execute_reply": "2021-09-26T09:55:30.213278Z",
     "shell.execute_reply.started": "2021-09-26T09:33:39.975870Z"
    },
    "papermill": {
     "duration": 0.038343,
     "end_time": "2021-09-26T09:55:30.213454",
     "exception": false,
     "start_time": "2021-09-26T09:55:30.175111",
     "status": "completed"
    },
    "tags": []
   },
   "outputs": [],
   "source": [
    "\n",
    "classifier_grid = [\n",
    "                   LearnerGrid(\n",
    "                       pipeline = rforest_clf,\n",
    "                       learner_parameters={\"max_depth\": [4, 8], \"n_estimators\": [200,500]},\n",
    "                   )\n",
    "]"
   ]
  },
  {
   "cell_type": "code",
   "execution_count": 18,
   "id": "02a495a6",
   "metadata": {
    "execution": {
     "iopub.execute_input": "2021-09-26T09:55:30.293800Z",
     "iopub.status.busy": "2021-09-26T09:55:30.288652Z",
     "iopub.status.idle": "2021-09-26T10:08:10.656887Z",
     "shell.execute_reply": "2021-09-26T10:08:10.656271Z",
     "shell.execute_reply.started": "2021-09-26T09:33:39.988504Z"
    },
    "papermill": {
     "duration": 760.412751,
     "end_time": "2021-09-26T10:08:10.657053",
     "exception": false,
     "start_time": "2021-09-26T09:55:30.244302",
     "status": "completed"
    },
    "tags": []
   },
   "outputs": [],
   "source": [
    "clf_ranker = LearnerRanker(\n",
    "    grids=classifier_grid,\n",
    "    cv = RepeatedKFold(n_splits=5, n_repeats=10, random_state=42),\n",
    "    n_jobs=-3,\n",
    "    scoring=\"roc_auc\").fit(churn_sample_kept_features)"
   ]
  },
  {
   "cell_type": "code",
   "execution_count": 19,
   "id": "1ce39c14",
   "metadata": {
    "execution": {
     "iopub.execute_input": "2021-09-26T10:08:10.725403Z",
     "iopub.status.busy": "2021-09-26T10:08:10.724714Z",
     "iopub.status.idle": "2021-09-26T10:08:10.742908Z",
     "shell.execute_reply": "2021-09-26T10:08:10.742267Z",
     "shell.execute_reply.started": "2021-09-26T09:46:16.258928Z"
    },
    "papermill": {
     "duration": 0.054189,
     "end_time": "2021-09-26T10:08:10.743047",
     "exception": false,
     "start_time": "2021-09-26T10:08:10.688858",
     "status": "completed"
    },
    "tags": []
   },
   "outputs": [
    {
     "data": {
      "text/html": [
       "<div>\n",
       "<style scoped>\n",
       "    .dataframe tbody tr th:only-of-type {\n",
       "        vertical-align: middle;\n",
       "    }\n",
       "\n",
       "    .dataframe tbody tr th {\n",
       "        vertical-align: top;\n",
       "    }\n",
       "\n",
       "    .dataframe thead tr th {\n",
       "        text-align: left;\n",
       "    }\n",
       "\n",
       "    .dataframe thead tr:last-of-type th {\n",
       "        text-align: right;\n",
       "    }\n",
       "</style>\n",
       "<table border=\"1\" class=\"dataframe\">\n",
       "  <thead>\n",
       "    <tr>\n",
       "      <th></th>\n",
       "      <th>ranking_score</th>\n",
       "      <th colspan=\"2\" halign=\"left\">roc_auc</th>\n",
       "      <th colspan=\"3\" halign=\"left\">classifier</th>\n",
       "    </tr>\n",
       "    <tr>\n",
       "      <th></th>\n",
       "      <th></th>\n",
       "      <th>mean</th>\n",
       "      <th>std</th>\n",
       "      <th>type</th>\n",
       "      <th>n_estimators</th>\n",
       "      <th>max_depth</th>\n",
       "    </tr>\n",
       "    <tr>\n",
       "      <th>rank</th>\n",
       "      <th></th>\n",
       "      <th></th>\n",
       "      <th></th>\n",
       "      <th></th>\n",
       "      <th></th>\n",
       "      <th></th>\n",
       "    </tr>\n",
       "  </thead>\n",
       "  <tbody>\n",
       "    <tr>\n",
       "      <th>0</th>\n",
       "      <td>0.933712</td>\n",
       "      <td>0.940014</td>\n",
       "      <td>0.003151</td>\n",
       "      <td>RandomForestClassifierDF</td>\n",
       "      <td>500</td>\n",
       "      <td>8</td>\n",
       "    </tr>\n",
       "    <tr>\n",
       "      <th>1</th>\n",
       "      <td>0.933708</td>\n",
       "      <td>0.939933</td>\n",
       "      <td>0.003113</td>\n",
       "      <td>RandomForestClassifierDF</td>\n",
       "      <td>200</td>\n",
       "      <td>8</td>\n",
       "    </tr>\n",
       "    <tr>\n",
       "      <th>2</th>\n",
       "      <td>0.917842</td>\n",
       "      <td>0.925968</td>\n",
       "      <td>0.004063</td>\n",
       "      <td>RandomForestClassifierDF</td>\n",
       "      <td>200</td>\n",
       "      <td>4</td>\n",
       "    </tr>\n",
       "    <tr>\n",
       "      <th>3</th>\n",
       "      <td>0.915632</td>\n",
       "      <td>0.923782</td>\n",
       "      <td>0.004075</td>\n",
       "      <td>RandomForestClassifierDF</td>\n",
       "      <td>500</td>\n",
       "      <td>4</td>\n",
       "    </tr>\n",
       "  </tbody>\n",
       "</table>\n",
       "</div>"
      ],
      "text/plain": [
       "     ranking_score   roc_auc                          classifier               \\\n",
       "                        mean       std                      type n_estimators   \n",
       "rank                                                                            \n",
       "0         0.933712  0.940014  0.003151  RandomForestClassifierDF          500   \n",
       "1         0.933708  0.939933  0.003113  RandomForestClassifierDF          200   \n",
       "2         0.917842  0.925968  0.004063  RandomForestClassifierDF          200   \n",
       "3         0.915632  0.923782  0.004075  RandomForestClassifierDF          500   \n",
       "\n",
       "                \n",
       "     max_depth  \n",
       "rank            \n",
       "0            8  \n",
       "1            8  \n",
       "2            4  \n",
       "3            4  "
      ]
     },
     "execution_count": 19,
     "metadata": {},
     "output_type": "execute_result"
    }
   ],
   "source": [
    "\n",
    "clf_ranker.summary_report()"
   ]
  },
  {
   "cell_type": "code",
   "execution_count": 20,
   "id": "e4fe0251",
   "metadata": {
    "execution": {
     "iopub.execute_input": "2021-09-26T10:08:10.811635Z",
     "iopub.status.busy": "2021-09-26T10:08:10.810944Z",
     "iopub.status.idle": "2021-09-26T10:08:14.001553Z",
     "shell.execute_reply": "2021-09-26T10:08:14.002122Z",
     "shell.execute_reply.started": "2021-09-26T09:46:16.281752Z"
    },
    "papermill": {
     "duration": 3.226704,
     "end_time": "2021-09-26T10:08:14.002295",
     "exception": false,
     "start_time": "2021-09-26T10:08:10.775591",
     "status": "completed"
    },
    "tags": []
   },
   "outputs": [],
   "source": [
    "y_pred = clf_ranker.best_model_.predict(churn_sample_kept_features.features)\n",
    "y_prob = clf_ranker.best_model_.predict_proba(churn_sample_kept_features.features)[1]\n",
    "y_true = churn_sample_kept_features.target"
   ]
  },
  {
   "cell_type": "code",
   "execution_count": 21,
   "id": "7c52ba85",
   "metadata": {
    "execution": {
     "iopub.execute_input": "2021-09-26T10:08:14.070372Z",
     "iopub.status.busy": "2021-09-26T10:08:14.069720Z",
     "iopub.status.idle": "2021-09-26T10:08:14.128824Z",
     "shell.execute_reply": "2021-09-26T10:08:14.129619Z",
     "shell.execute_reply.started": "2021-09-26T09:46:19.288271Z"
    },
    "papermill": {
     "duration": 0.095261,
     "end_time": "2021-09-26T10:08:14.129832",
     "exception": false,
     "start_time": "2021-09-26T10:08:14.034571",
     "status": "completed"
    },
    "tags": []
   },
   "outputs": [
    {
     "name": "stdout",
     "output_type": "stream",
     "text": [
      "              precision    recall  f1-score   support\n",
      "\n",
      "           0       0.92      0.99      0.95     36548\n",
      "           1       0.81      0.34      0.48      4640\n",
      "\n",
      "    accuracy                           0.92     41188\n",
      "   macro avg       0.87      0.66      0.72     41188\n",
      "weighted avg       0.91      0.92      0.90     41188\n",
      "\n"
     ]
    }
   ],
   "source": [
    "print(classification_report(y_true, y_pred))"
   ]
  },
  {
   "cell_type": "code",
   "execution_count": 22,
   "id": "34d016fb",
   "metadata": {
    "execution": {
     "iopub.execute_input": "2021-09-26T10:08:14.198396Z",
     "iopub.status.busy": "2021-09-26T10:08:14.197001Z",
     "iopub.status.idle": "2021-09-26T10:08:14.209184Z",
     "shell.execute_reply": "2021-09-26T10:08:14.208608Z",
     "shell.execute_reply.started": "2021-09-26T09:46:19.350126Z"
    },
    "papermill": {
     "duration": 0.047353,
     "end_time": "2021-09-26T10:08:14.209327",
     "exception": false,
     "start_time": "2021-09-26T10:08:14.161974",
     "status": "completed"
    },
    "tags": []
   },
   "outputs": [],
   "source": [
    "prec, recall,s = precision_recall_curve(y_true, y_prob, pos_label=1)"
   ]
  },
  {
   "cell_type": "code",
   "execution_count": 23,
   "id": "2d259e9d",
   "metadata": {
    "execution": {
     "iopub.execute_input": "2021-09-26T10:08:14.283872Z",
     "iopub.status.busy": "2021-09-26T10:08:14.283189Z",
     "iopub.status.idle": "2021-09-26T10:08:51.946188Z",
     "shell.execute_reply": "2021-09-26T10:08:51.945541Z",
     "shell.execute_reply.started": "2021-09-26T09:46:19.363162Z"
    },
    "papermill": {
     "duration": 37.705103,
     "end_time": "2021-09-26T10:08:51.946336",
     "exception": false,
     "start_time": "2021-09-26T10:08:14.241233",
     "status": "completed"
    },
    "tags": []
   },
   "outputs": [
    {
     "data": {
      "text/plain": [
       "Text(0.5, 1.0, 'Summary of model performance')"
      ]
     },
     "execution_count": 23,
     "metadata": {},
     "output_type": "execute_result"
    },
    {
     "data": {
      "image/png": "[encoded data removed]",
      "text/plain": [
       "<Figure size 432x288 with 1 Axes>"
      ]
     },
     "metadata": {
      "needs_background": "light"
     },
     "output_type": "display_data"
    }
   ],
   "source": [
    "metrics = []\n",
    "\n",
    "# use established crossfit which contains all splits and fitted models\n",
    "best_crossfit = clf_ranker.best_model_crossfit_\n",
    "for (train_index, test_index), model in zip(best_crossfit.splits(), best_crossfit.models()):\n",
    "    \n",
    "    # get required target outputs\n",
    "    y_true = churn_sample_kept_features.target[test_index]\n",
    "    y_prob = model.predict_proba(churn_sample_kept_features.features.iloc[test_index])[1]\n",
    "    y_pred = model.predict(churn_sample_kept_features.features.iloc[test_index])\n",
    "    \n",
    "    # calculate metrics\n",
    "    metrics.append(pd.Series({\n",
    "        'Accuracy': accuracy_score(y_true, y_pred),\n",
    "        'F1': f1_score(y_true, y_pred),\n",
    "        'Precision': precision_score(y_true, y_pred),\n",
    "        'Recall': recall_score(y_true, y_pred),\n",
    "        'AUC': roc_auc_score(y_true, y_prob)}))\n",
    "                   \n",
    "# collect required summaries and plot\n",
    "metrics_df = pd.DataFrame(metrics)\n",
    "fig, ax = plt.subplots()\n",
    "ax.bar(\n",
    "    metrics_df.columns,\n",
    "    metrics_df.mean(),\n",
    "    yerr=metrics_df.std(),\n",
    "    align='center',\n",
    "    ecolor='lime',\n",
    "    capsize=10,\n",
    "    color='lightgrey'\n",
    ")\n",
    "ax.set_ylabel('Metric +/- SD')\n",
    "ax.set_title('Summary of model performance')"
   ]
  },
  {
   "cell_type": "code",
   "execution_count": null,
   "id": "fa40b915",
   "metadata": {
    "papermill": {
     "duration": 0.032739,
     "end_time": "2021-09-26T10:08:52.013641",
     "exception": false,
     "start_time": "2021-09-26T10:08:51.980902",
     "status": "completed"
    },
    "tags": []
   },
   "outputs": [],
   "source": []
  }
 ],
 "metadata": {
  "kernelspec": {
   "display_name": "Python 3",
   "language": "python",
   "name": "python3"
  },
  "language_info": {
   "codemirror_mode": {
    "name": "ipython",
    "version": 3
   },
   "file_extension": ".py",
   "mimetype": "text/x-python",
   "name": "python",
   "nbconvert_exporter": "python",
   "pygments_lexer": "ipython3",
   "version": "3.7.10"
  },
  "papermill": {
   "default_parameters": {},
   "duration": 1021.043744,
   "end_time": "2021-09-26T10:08:53.965296",
   "environment_variables": {},
   "exception": null,
   "input_path": "__notebook__.ipynb",
   "output_path": "__notebook__.ipynb",
   "parameters": {},
   "start_time": "2021-09-26T09:51:52.921552",
   "version": "2.3.3"
  }
 },
 "nbformat": 4,
 "nbformat_minor": 5
}
